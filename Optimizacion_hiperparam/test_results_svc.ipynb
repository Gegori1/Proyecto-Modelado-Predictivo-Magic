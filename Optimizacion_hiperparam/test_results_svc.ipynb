{
 "cells": [
  {
   "cell_type": "code",
   "execution_count": 1,
   "metadata": {},
   "outputs": [],
   "source": [
    "import pandas as pd\n",
    "import numpy as np\n",
    "from pathlib import Path\n",
    "\n",
    "from sklearn.preprocessing import StandardScaler\n",
    "from sklearn.model_selection import train_test_split\n",
    "from sklearn.metrics import (\n",
    "    accuracy_score,\n",
    "    recall_score,\n",
    "    precision_score,\n",
    "    f1_score,\n",
    "    confusion_matrix\n",
    ")\n",
    "\n",
    "from sklearn.svm import SVC"
   ]
  },
  {
   "cell_type": "code",
   "execution_count": 2,
   "metadata": {},
   "outputs": [],
   "source": [
    "data_path = Path().resolve().parent / \"magic04.data\"\n",
    "data = pd.read_csv(data_path, header=None)\n",
    "data.columns=['fLength','fWidth','fSize','fConc','fConc1','fAsym','fM3Long','fM3Trans','fAlpha','fDist','class']"
   ]
  },
  {
   "cell_type": "code",
   "execution_count": 3,
   "metadata": {},
   "outputs": [],
   "source": [
    "data2 = (\n",
    "    data\n",
    "    .assign(\n",
    "        **{\"class\": lambda x: x['class'].map({'g': 1, 'h': 0}).astype('int8')}\n",
    "    )\n",
    ")"
   ]
  },
  {
   "cell_type": "code",
   "execution_count": 4,
   "metadata": {},
   "outputs": [],
   "source": [
    "# train test split\n",
    "X_train, X_test, Y_train, Y_test = train_test_split(\n",
    "    data2.drop(columns=['class']),\n",
    "    data2[['class']],\n",
    "    train_size=0.7,\n",
    "    random_state=0\n",
    ")\n",
    "\n",
    "# scaler\n",
    "scaler = StandardScaler()\n",
    "scaler.set_output(transform=\"pandas\")\n",
    "\n",
    "X_train = scaler.fit_transform(X_train)\n",
    "X_test = scaler.transform(X_test)"
   ]
  },
  {
   "cell_type": "code",
   "execution_count": 5,
   "metadata": {},
   "outputs": [],
   "source": [
    "hyperparameters = {\n",
    "    'kernel' : \"rbf\",\n",
    "    'C' : 92.193361,\n",
    "    'gamma' : 0.106529,\n",
    "}"
   ]
  },
  {
   "cell_type": "code",
   "execution_count": 10,
   "metadata": {},
   "outputs": [
    {
     "name": "stdout",
     "output_type": "stream",
     "text": [
      "Train accuracy: 0.903\n",
      "Test accuracy: 0.876\n",
      "Train recall: 0.974\n",
      "Test recall: 0.957\n",
      "Train precision: 0.887\n",
      "Test precision: 0.865\n",
      "Train f1: 0.929\n",
      "Test f1: 0.909\n"
     ]
    }
   ],
   "source": [
    "model = SVC(**hyperparameters).fit(X_train, Y_train.values.ravel())\n",
    "Y_pred = model.predict(X_train)\n",
    "Y_pred_test = model.predict(X_test)\n",
    "\n",
    "print(f\"Train accuracy: {accuracy_score(Y_train, Y_pred):.3f}\")\n",
    "print(f\"Test accuracy: {accuracy_score(Y_test, Y_pred_test):.3f}\")\n",
    "print(f\"Train recall: {recall_score(Y_train, Y_pred):.3f}\")\n",
    "print(f\"Test recall: {recall_score(Y_test, Y_pred_test):.3f}\")\n",
    "print(f\"Train precision: {precision_score(Y_train, Y_pred):.3f}\")\n",
    "print(f\"Test precision: {precision_score(Y_test, Y_pred_test):.3f}\")\n",
    "print(f\"Train f1: {f1_score(Y_train, Y_pred):.3f}\")\n",
    "print(f\"Test f1: {f1_score(Y_test, Y_pred_test):.3f}\")"
   ]
  },
  {
   "cell_type": "code",
   "execution_count": 8,
   "metadata": {},
   "outputs": [
    {
     "name": "stdout",
     "output_type": "stream",
     "text": [
      "Train confusion matrix:\n",
      " [[3602 1069]\n",
      " [ 223 8420]]\n",
      "Test confusion matrix:\n",
      " [[1466  551]\n",
      " [ 157 3532]]\n"
     ]
    }
   ],
   "source": [
    "print(f\"Train confusion matrix:\\n {confusion_matrix(Y_train, Y_pred)}\")\n",
    "print(f\"Test confusion matrix:\\n {confusion_matrix(Y_test, Y_pred_test)}\")"
   ]
  }
 ],
 "metadata": {
  "kernelspec": {
   "display_name": "Python 3",
   "language": "python",
   "name": "python3"
  },
  "language_info": {
   "codemirror_mode": {
    "name": "ipython",
    "version": 3
   },
   "file_extension": ".py",
   "mimetype": "text/x-python",
   "name": "python",
   "nbconvert_exporter": "python",
   "pygments_lexer": "ipython3",
   "version": "3.10.8"
  }
 },
 "nbformat": 4,
 "nbformat_minor": 2
}
