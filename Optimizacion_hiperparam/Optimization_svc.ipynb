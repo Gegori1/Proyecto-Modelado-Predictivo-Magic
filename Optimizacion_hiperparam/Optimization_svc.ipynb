{
 "cells": [
  {
   "cell_type": "markdown",
   "metadata": {},
   "source": [
    "### Import libraries"
   ]
  },
  {
   "cell_type": "code",
   "execution_count": 1,
   "metadata": {},
   "outputs": [],
   "source": [
    "from pathlib import Path\n",
    "\n",
    "import pandas as pd\n",
    "import numpy as np\n",
    "from sklearn.preprocessing import StandardScaler, PowerTransformer\n",
    "from sklearn.model_selection import train_test_split, cross_validate\n",
    "from imblearn.over_sampling import SMOTE\n",
    "\n",
    "from sklearn.metrics import accuracy_score\n",
    "                                                                                                                                                                                          \n",
    "from bayes_opt.event import Events\n",
    "from Utils import newBayesianOptimization, newJSONLogger"
   ]
  },
  {
   "cell_type": "code",
   "execution_count": 2,
   "metadata": {},
   "outputs": [],
   "source": [
    "# modelos\n",
    "from sklearn.svm import SVC as SVC"
   ]
  },
  {
   "cell_type": "markdown",
   "metadata": {},
   "source": [
    "### Import data"
   ]
  },
  {
   "cell_type": "code",
   "execution_count": 3,
   "metadata": {},
   "outputs": [],
   "source": [
    "data_path = Path().resolve().parent / \"magic04.data\"\n",
    "data = pd.read_csv(data_path, header=None)\n",
    "data.columns=['fLength','fWidth','fSize','fConc','fConc1','fAsym','fM3Long','fM3Trans','fAlpha','fDist','class']"
   ]
  },
  {
   "cell_type": "markdown",
   "metadata": {},
   "source": [
    "### Preparação dos dados"
   ]
  },
  {
   "cell_type": "code",
   "execution_count": 4,
   "metadata": {},
   "outputs": [],
   "source": [
    "data = (\n",
    "    data\n",
    "    .assign(\n",
    "        **{\"class\": lambda x: x['class'].map({'g': 1, 'h': 0}).astype('int8')}\n",
    "    )\n",
    "    [['fWidth','fConc1','fAsym','fM3Long','fM3Trans','fAlpha','fDist', 'class']]\n",
    ")"
   ]
  },
  {
   "cell_type": "code",
   "execution_count": 5,
   "metadata": {},
   "outputs": [],
   "source": [
    "# train test split\n",
    "X_train, X_test, Y_train, Y_test = train_test_split(\n",
    "    data.drop(columns=['class']),\n",
    "    data[['class']],\n",
    "    test_size=0.3,\n",
    "    random_state=0,\n",
    "    stratify=data['class']\n",
    ")"
   ]
  },
  {
   "cell_type": "code",
   "execution_count": 6,
   "metadata": {},
   "outputs": [],
   "source": [
    "# transform power\n",
    "transformer = PowerTransformer()\n",
    "transformer.set_output(transform=\"pandas\")\n",
    "col_to_tran = ['fWidth', 'fConc1', 'fM3Long']\n",
    "X_train[col_to_tran] = transformer.fit_transform(X_train[col_to_tran])\n",
    "X_test[col_to_tran] = transformer.transform(X_test[col_to_tran])"
   ]
  },
  {
   "cell_type": "code",
   "execution_count": 7,
   "metadata": {},
   "outputs": [],
   "source": [
    "# scaler\n",
    "scaler = StandardScaler()\n",
    "scaler.set_output(transform=\"pandas\")\n",
    "\n",
    "X_train = scaler.fit_transform(X_train)\n",
    "X_test = scaler.transform(X_test)"
   ]
  },
  {
   "cell_type": "code",
   "execution_count": 8,
   "metadata": {},
   "outputs": [],
   "source": [
    "# oversampling\n",
    "sm = SMOTE(random_state=42)\n",
    "X_train, Y_train = sm.fit_resample(X_train, Y_train)"
   ]
  },
  {
   "cell_type": "code",
   "execution_count": 9,
   "metadata": {},
   "outputs": [],
   "source": [
    "Y_train_ravel = Y_train.values.ravel()\n",
    "Y_test_ravel = Y_test.values.ravel()"
   ]
  },
  {
   "cell_type": "markdown",
   "metadata": {},
   "source": [
    "### Bayesian Optimization"
   ]
  },
  {
   "cell_type": "code",
   "execution_count": 15,
   "metadata": {},
   "outputs": [],
   "source": [
    "# parameters\n",
    "hyperparameters = {\n",
    "    'kernel' : \"rbf\",\n",
    "    'C' : 35.497055,\n",
    "    'gamma' : 0.148493,\n",
    "}\n",
    "\n",
    "model = SVC(**hyperparameters)\n",
    "\n",
    "cv = (\n",
    "    train_test_split(np.arange(Y_train.shape[0]) , test_size=0.3, random_state=i, stratify=Y_train)\n",
    "    for i in [0, 50503, 8254, 12345, 316, 8902, 7822, 8228, 9574, 336]  \n",
    ")\n",
    "\n",
    "# cross validation\n",
    "cv = cross_validate(\n",
    "    model,\n",
    "    X_train,\n",
    "    Y_train_ravel,\n",
    "    cv=cv,\n",
    "    scoring='accuracy',\n",
    "    n_jobs=-1\n",
    ")\n",
    "ac_cv = cv['test_score'].mean()\n",
    "\n",
    "# fit and predict test\n",
    "model.fit(X_train, Y_train_ravel)\n",
    "Y_pred = model.predict(X_test)\n",
    "ac_test = accuracy_score(Y_test_ravel, Y_pred)"
   ]
  },
  {
   "cell_type": "code",
   "execution_count": 17,
   "metadata": {},
   "outputs": [
    {
     "name": "stdout",
     "output_type": "stream",
     "text": [
      "cross_val accuracy: 0.812\n",
      "test acuracy: 0.818\n"
     ]
    }
   ],
   "source": [
    "print(f\"cross_val accuracy: {ac_cv:.3f}\")\n",
    "print(f\"test acuracy: {ac_test:.3f}\")"
   ]
  },
  {
   "cell_type": "code",
   "execution_count": 10,
   "metadata": {},
   "outputs": [],
   "source": [
    "def opt_bas(C, gamma):\n",
    "    \n",
    "    # parameters\n",
    "    hyperparameters = {\n",
    "        'kernel' : \"rbf\",\n",
    "        'C' : C,\n",
    "        'gamma' : gamma,\n",
    "    }\n",
    "\n",
    "    model = SVC(**hyperparameters)\n",
    "\n",
    "    cv = (\n",
    "        train_test_split(np.arange(Y_train.shape[0]) , test_size=0.3, random_state=i, stratify=Y_train)\n",
    "        for i in [0, 50503, 8254, 12345, 316, 8902, 7822, 8228, 9574, 336]  \n",
    "    )\n",
    "\n",
    "    # cross validation\n",
    "    cv = cross_validate(\n",
    "        model,\n",
    "        X_train,\n",
    "        Y_train_ravel,\n",
    "        cv=cv,\n",
    "        scoring='accuracy',\n",
    "        n_jobs=-1\n",
    "    )\n",
    "    ac_cv = cv['test_score'].mean()\n",
    "    \n",
    "    # fit and predict test\n",
    "    model.fit(X_train, Y_train_ravel)\n",
    "    Y_pred = model.predict(X_test)\n",
    "    ac_test = accuracy_score(Y_test_ravel, Y_pred)\n",
    "\n",
    "    return 2*ac_test + ac_cv"
   ]
  },
  {
   "cell_type": "markdown",
   "metadata": {},
   "source": [
    "### Run optimization"
   ]
  },
  {
   "cell_type": "code",
   "execution_count": 11,
   "metadata": {},
   "outputs": [],
   "source": [
    "# Bounded region of parameter space\n",
    "pbounds = {'C': (0.01, 500), 'gamma': (0.001, 5)}\n",
    "\n",
    "# Bayes optimizer instantiation\n",
    "optimizer = newBayesianOptimization(\n",
    "    f=opt_bas, \n",
    "    pbounds=pbounds, \n",
    "    random_state=1, \n",
    "    verbose=2, \n",
    ")\n",
    "\n",
    "# keep data\n",
    "log_path = Path().resolve() / \"Logs\" / \"svc_resampling_2.jsonl\"\n",
    "logger = newJSONLogger(path = str(log_path))\n",
    "optimizer.subscribe(Events.OPTIMIZATION_STEP, logger)"
   ]
  },
  {
   "cell_type": "code",
   "execution_count": 12,
   "metadata": {},
   "outputs": [],
   "source": [
    "# optimizer.res"
   ]
  },
  {
   "cell_type": "code",
   "execution_count": 13,
   "metadata": {},
   "outputs": [],
   "source": [
    "# get all the current parameters of the model\n",
    "optimizer.load_previous(log_path)"
   ]
  },
  {
   "cell_type": "code",
   "execution_count": 14,
   "metadata": {},
   "outputs": [
    {
     "ename": "NotUniqueError",
     "evalue": "Data point [208.51683213   3.60190214] is not unique. You can set \"allow_duplicate_points=True\" to avoid this error",
     "output_type": "error",
     "traceback": [
      "\u001b[0;31m---------------------------------------------------------------------------\u001b[0m",
      "\u001b[0;31mNotUniqueError\u001b[0m                            Traceback (most recent call last)",
      "\u001b[1;32m/workspaces/Proyecto-Modelado-Predictivo-Magic/Optimizacion_hiperparam/Optimization_svc.ipynb Cell 19\u001b[0m line \u001b[0;36m1\n\u001b[0;32m----> <a href='vscode-notebook-cell://codespaces%2Borganic-space-orbit-g5gggqj66442ppp9/workspaces/Proyecto-Modelado-Predictivo-Magic/Optimizacion_hiperparam/Optimization_svc.ipynb#X24sdnNjb2RlLXJlbW90ZQ%3D%3D?line=0'>1</a>\u001b[0m optimizer\u001b[39m.\u001b[39;49mmaximize(init_points\u001b[39m=\u001b[39;49m\u001b[39m6\u001b[39;49m, n_iter\u001b[39m=\u001b[39;49m\u001b[39m500\u001b[39;49m)\n",
      "File \u001b[0;32m~/.python/current/lib/python3.10/site-packages/bayes_opt/bayesian_optimization.py:310\u001b[0m, in \u001b[0;36mBayesianOptimization.maximize\u001b[0;34m(self, init_points, n_iter, acquisition_function, acq, kappa, kappa_decay, kappa_decay_delay, xi, **gp_params)\u001b[0m\n\u001b[1;32m    308\u001b[0m     x_probe \u001b[39m=\u001b[39m \u001b[39mself\u001b[39m\u001b[39m.\u001b[39msuggest(util)\n\u001b[1;32m    309\u001b[0m     iteration \u001b[39m+\u001b[39m\u001b[39m=\u001b[39m \u001b[39m1\u001b[39m\n\u001b[0;32m--> 310\u001b[0m \u001b[39mself\u001b[39;49m\u001b[39m.\u001b[39;49mprobe(x_probe, lazy\u001b[39m=\u001b[39;49m\u001b[39mFalse\u001b[39;49;00m)\n\u001b[1;32m    312\u001b[0m \u001b[39mif\u001b[39;00m \u001b[39mself\u001b[39m\u001b[39m.\u001b[39m_bounds_transformer \u001b[39mand\u001b[39;00m iteration \u001b[39m>\u001b[39m \u001b[39m0\u001b[39m:\n\u001b[1;32m    313\u001b[0m     \u001b[39m# The bounds transformer should only modify the bounds after\u001b[39;00m\n\u001b[1;32m    314\u001b[0m     \u001b[39m# the init_points points (only for the true iterations)\u001b[39;00m\n\u001b[1;32m    315\u001b[0m     \u001b[39mself\u001b[39m\u001b[39m.\u001b[39mset_bounds(\n\u001b[1;32m    316\u001b[0m         \u001b[39mself\u001b[39m\u001b[39m.\u001b[39m_bounds_transformer\u001b[39m.\u001b[39mtransform(\u001b[39mself\u001b[39m\u001b[39m.\u001b[39m_space))\n",
      "File \u001b[0;32m~/.python/current/lib/python3.10/site-packages/bayes_opt/bayesian_optimization.py:208\u001b[0m, in \u001b[0;36mBayesianOptimization.probe\u001b[0;34m(self, params, lazy)\u001b[0m\n\u001b[1;32m    206\u001b[0m     \u001b[39mself\u001b[39m\u001b[39m.\u001b[39m_queue\u001b[39m.\u001b[39madd(params)\n\u001b[1;32m    207\u001b[0m \u001b[39melse\u001b[39;00m:\n\u001b[0;32m--> 208\u001b[0m     \u001b[39mself\u001b[39;49m\u001b[39m.\u001b[39;49m_space\u001b[39m.\u001b[39;49mprobe(params)\n\u001b[1;32m    209\u001b[0m     \u001b[39mself\u001b[39m\u001b[39m.\u001b[39mdispatch(Events\u001b[39m.\u001b[39mOPTIMIZATION_STEP)\n",
      "File \u001b[0;32m~/.python/current/lib/python3.10/site-packages/bayes_opt/target_space.py:239\u001b[0m, in \u001b[0;36mTargetSpace.probe\u001b[0;34m(self, params)\u001b[0m\n\u001b[1;32m    236\u001b[0m target \u001b[39m=\u001b[39m \u001b[39mself\u001b[39m\u001b[39m.\u001b[39mtarget_func(\u001b[39m*\u001b[39m\u001b[39m*\u001b[39mparams)\n\u001b[1;32m    238\u001b[0m \u001b[39mif\u001b[39;00m \u001b[39mself\u001b[39m\u001b[39m.\u001b[39m_constraint \u001b[39mis\u001b[39;00m \u001b[39mNone\u001b[39;00m:\n\u001b[0;32m--> 239\u001b[0m     \u001b[39mself\u001b[39;49m\u001b[39m.\u001b[39;49mregister(x, target)\n\u001b[1;32m    240\u001b[0m     \u001b[39mreturn\u001b[39;00m target\n\u001b[1;32m    241\u001b[0m \u001b[39melse\u001b[39;00m:\n",
      "File \u001b[0;32m~/.python/current/lib/python3.10/site-packages/bayes_opt/target_space.py:196\u001b[0m, in \u001b[0;36mTargetSpace.register\u001b[0;34m(self, params, target, constraint_value)\u001b[0m\n\u001b[1;32m    193\u001b[0m         \u001b[39mprint\u001b[39m(\u001b[39mf\u001b[39m\u001b[39m'\u001b[39m\u001b[39m{\u001b[39;00mColours\u001b[39m.\u001b[39mRED\u001b[39m}\u001b[39;00m\u001b[39mData point \u001b[39m\u001b[39m{\u001b[39;00mx\u001b[39m}\u001b[39;00m\u001b[39m is not unique. \u001b[39m\u001b[39m{\u001b[39;00m\u001b[39mself\u001b[39m\u001b[39m.\u001b[39mn_duplicate_points\u001b[39m}\u001b[39;00m\u001b[39m duplicates registered.\u001b[39m\u001b[39m'\u001b[39m\n\u001b[1;32m    194\u001b[0m                       \u001b[39mf\u001b[39m\u001b[39m'\u001b[39m\u001b[39m Continuing ...\u001b[39m\u001b[39m{\u001b[39;00mColours\u001b[39m.\u001b[39mEND\u001b[39m}\u001b[39;00m\u001b[39m'\u001b[39m)\n\u001b[1;32m    195\u001b[0m     \u001b[39melse\u001b[39;00m:\n\u001b[0;32m--> 196\u001b[0m         \u001b[39mraise\u001b[39;00m NotUniqueError(\u001b[39mf\u001b[39m\u001b[39m'\u001b[39m\u001b[39mData point \u001b[39m\u001b[39m{\u001b[39;00mx\u001b[39m}\u001b[39;00m\u001b[39m is not unique. You can set \u001b[39m\u001b[39m\"\u001b[39m\u001b[39mallow_duplicate_points=True\u001b[39m\u001b[39m\"\u001b[39m\u001b[39m to \u001b[39m\u001b[39m'\u001b[39m\n\u001b[1;32m    197\u001b[0m                              \u001b[39mf\u001b[39m\u001b[39m'\u001b[39m\u001b[39mavoid this error\u001b[39m\u001b[39m'\u001b[39m)\n\u001b[1;32m    199\u001b[0m \u001b[39mself\u001b[39m\u001b[39m.\u001b[39m_params \u001b[39m=\u001b[39m np\u001b[39m.\u001b[39mconcatenate([\u001b[39mself\u001b[39m\u001b[39m.\u001b[39m_params, x\u001b[39m.\u001b[39mreshape(\u001b[39m1\u001b[39m, \u001b[39m-\u001b[39m\u001b[39m1\u001b[39m)])\n\u001b[1;32m    200\u001b[0m \u001b[39mself\u001b[39m\u001b[39m.\u001b[39m_target \u001b[39m=\u001b[39m np\u001b[39m.\u001b[39mconcatenate([\u001b[39mself\u001b[39m\u001b[39m.\u001b[39m_target, [target]])\n",
      "\u001b[0;31mNotUniqueError\u001b[0m: Data point [208.51683213   3.60190214] is not unique. You can set \"allow_duplicate_points=True\" to avoid this error"
     ]
    }
   ],
   "source": [
    "optimizer.maximize(init_points=6, n_iter=500)"
   ]
  },
  {
   "cell_type": "code",
   "execution_count": null,
   "metadata": {},
   "outputs": [],
   "source": []
  }
 ],
 "metadata": {
  "kernelspec": {
   "display_name": "Python 3",
   "language": "python",
   "name": "python3"
  },
  "language_info": {
   "codemirror_mode": {
    "name": "ipython",
    "version": 3
   },
   "file_extension": ".py",
   "mimetype": "text/x-python",
   "name": "python",
   "nbconvert_exporter": "python",
   "pygments_lexer": "ipython3",
   "version": "3.10.8"
  },
  "orig_nbformat": 4
 },
 "nbformat": 4,
 "nbformat_minor": 2
}
